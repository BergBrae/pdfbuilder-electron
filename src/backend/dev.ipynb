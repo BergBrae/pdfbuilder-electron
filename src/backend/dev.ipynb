{
 "cells": [
  {
   "cell_type": "code",
   "execution_count": 1,
   "metadata": {},
   "outputs": [],
   "source": [
    "from schema import DocxTemplate, TemplateVariable, FileType, FileData, Section"
   ]
  },
  {
   "cell_type": "code",
   "execution_count": 2,
   "metadata": {},
   "outputs": [
    {
     "name": "stdout",
     "output_type": "stream",
     "text": [
      "1\n"
     ]
    }
   ],
   "source": [
    "# Create report and add Cover page\n",
    "\n",
    "report = Section(\n",
    "    bookmark_name=\"BWL Report\",\n",
    "    base_directory=\"C:/Users/guest2/Documents/Level.III/BWL/58313\",\n",
    "    variables=[\n",
    "        TemplateVariable(\n",
    "            template_text=\"{CLIENT_NAME}\",\n",
    "            is_constant=True,\n",
    "            constant_value=\"BOARD OF WATER & LIGHT\",\n",
    "        ),\n",
    "        TemplateVariable(\n",
    "            template_text=\"{PROJECT_NAME}\",\n",
    "            is_constant=True,\n",
    "            constant_value=\"ERICKSON SEMI ANNUAL 16A-16D\",\n",
    "        ),\n",
    "        TemplateVariable(\n",
    "            template_text=\"{BATCH}\", is_constant=True, constant_value=\"S58313\"\n",
    "        ),\n",
    "        TemplateVariable(\n",
    "            template_text=\"{REPORT_DATE}\",\n",
    "            is_constant=True,\n",
    "            constant_value=\"March 13, 2024\",\n",
    "        ),\n",
    "        TemplateVariable(\n",
    "            template_text=\"{PAGE_COUNT}\",\n",
    "            is_constant=False,\n",
    "            bookmark_for_page_number=\"Analytical Report\",\n",
    "            use_beginning_of_bookmark=False,\n",
    "        ),\n",
    "        TemplateVariable(\n",
    "            template_text=\"{CASE_NARRATIVE_START}\",\n",
    "            is_constant=False,\n",
    "            bookmark_for_page_number=\"SDG Case Narrative\",\n",
    "            use_beginning_of_bookmark=True,\n",
    "        ),\n",
    "        TemplateVariable(\n",
    "            template_text=\"{CASE_NARRATIVE_END}\",\n",
    "            is_constant=False,\n",
    "            bookmark_for_page_number=\"SDG Case Narrative\",\n",
    "            use_beginning_of_bookmark=False,\n",
    "        ),\n",
    "        TemplateVariable(\n",
    "            template_text=\"{ANALYSIS_START}\",\n",
    "            is_constant=False,\n",
    "            bookmark_for_page_number=\"Analytical Report\",\n",
    "            use_beginning_of_bookmark=True,\n",
    "        ),\n",
    "        TemplateVariable(\n",
    "            template_text=\"{ANALYSIS_END}\",\n",
    "            is_constant=False,\n",
    "            bookmark_for_page_number=\"Analytical Report\",\n",
    "            use_beginning_of_bookmark=False,\n",
    "        ),\n",
    "        TemplateVariable(\n",
    "            template_text=\"{METALS_START}\",\n",
    "            is_constant=False,\n",
    "            bookmark_for_page_number=\"Metals\",\n",
    "            use_beginning_of_bookmark=True,\n",
    "        ),\n",
    "        TemplateVariable(\n",
    "            template_text=\"{METALS_END}\",\n",
    "            is_constant=False,\n",
    "            bookmark_for_page_number=\"Metals\",\n",
    "            use_beginning_of_bookmark=False,\n",
    "        ),\n",
    "        TemplateVariable(\n",
    "            template_text=\"{MERCURY_START}\",\n",
    "            is_constant=False,\n",
    "            bookmark_for_page_number=\"Mercury\",\n",
    "            use_beginning_of_bookmark=True,\n",
    "        ),\n",
    "        TemplateVariable(\n",
    "            template_text=\"{MERCURY_END}\",\n",
    "            is_constant=False,\n",
    "            bookmark_for_page_number=\"Mercury\",\n",
    "            use_beginning_of_bookmark=False,\n",
    "        ),\n",
    "        TemplateVariable(\n",
    "            template_text=\"{FIELD_SAMPLING}\",\n",
    "            is_constant=True,\n",
    "            constant_value=\"Marc Wahrer performed the fieldwork.\",\n",
    "        ),\n",
    "    ],\n",
    ")\n",
    "\n",
    "cover = DocxTemplate(\n",
    "    docx_path=r\"./COVER.58313.doc\",\n",
    "    will_have_page_numbers=False,\n",
    ")\n",
    "\n",
    "\n",
    "report.children.append(cover)\n",
    "print(len(report.children))"
   ]
  },
  {
   "cell_type": "code",
   "execution_count": 3,
   "metadata": {},
   "outputs": [
    {
     "name": "stdout",
     "output_type": "stream",
     "text": [
      "2\n"
     ]
    }
   ],
   "source": [
    "# Add cover_pages\n",
    "\n",
    "cover_pages = DocxTemplate(\n",
    "    docx_path=\"./COVER.58313_pages.doc\",\n",
    "    will_have_page_numbers=False,\n",
    "    variables_in_doc=[\n",
    "        \"{CLIENT_NAME}\",\n",
    "        \"{PROJECT_NAME}\",\n",
    "        \"{BATCH}\",\n",
    "    ]\n",
    ")\n",
    "\n",
    "report.children.append(cover_pages)\n",
    "print(len(report.children))"
   ]
  },
  {
   "cell_type": "code",
   "execution_count": 4,
   "metadata": {},
   "outputs": [
    {
     "name": "stdout",
     "output_type": "stream",
     "text": [
      "3\n"
     ]
    }
   ],
   "source": [
    "index = DocxTemplate(\n",
    "    docx_path=\"./Inorganic-Inventory-Sheet.58313.doc\",\n",
    "    will_have_page_numbers=False,\n",
    "    bookmark_name=\"Inorganics Inventory Sheet\",\n",
    ")\n",
    "\n",
    "report.children.append(index)\n",
    "print(len(report.children))"
   ]
  },
  {
   "cell_type": "code",
   "execution_count": 5,
   "metadata": {},
   "outputs": [
    {
     "name": "stdout",
     "output_type": "stream",
     "text": [
      "4\n"
     ]
    }
   ],
   "source": [
    "case_narrative = DocxTemplate(\n",
    "    docx_path=\"./CaseNarrative.58313.240313.doc\",\n",
    "    will_have_page_numbers=True,\n",
    "    bookmark_name=\"SDG Case Narrative\",\n",
    ")\n",
    "\n",
    "report.children.append(case_narrative)\n",
    "print(len(report.children))"
   ]
  },
  {
   "cell_type": "code",
   "execution_count": 6,
   "metadata": {},
   "outputs": [
    {
     "name": "stdout",
     "output_type": "stream",
     "text": [
      "5\n"
     ]
    }
   ],
   "source": [
    "analytical_lab_report = FileType(\n",
    "    directory_source=\"./\",\n",
    "    filename_text_to_match=\"RPT\",\n",
    "    bookmark_name=\"Analytical Report\",\n",
    ")\n",
    "\n",
    "report.children.append(analytical_lab_report)\n",
    "print(len(report.children))"
   ]
  },
  {
   "cell_type": "code",
   "execution_count": 7,
   "metadata": {},
   "outputs": [
    {
     "name": "stdout",
     "output_type": "stream",
     "text": [
      "6\n"
     ]
    }
   ],
   "source": [
    "# Quality control cover page\n",
    "\n",
    "qc_cover = FileType(\n",
    "    bookmark_name=\"QC Cover Page\", directory_source=\"./\", filename_text_to_match=\"QC.S\"\n",
    ")\n",
    "\n",
    "report.children.append(qc_cover)\n",
    "print(len(report.children))"
   ]
  },
  {
   "cell_type": "code",
   "execution_count": 8,
   "metadata": {},
   "outputs": [
    {
     "name": "stdout",
     "output_type": "stream",
     "text": [
      "7\n"
     ]
    }
   ],
   "source": [
    "# Quality Control Report\n",
    "\n",
    "qc_report = FileType(\n",
    "    bookmark_name=\"QC Report\", directory_source=\"./\", filename_text_to_match=\"QC-S\"\n",
    ")\n",
    "\n",
    "report.children.append(qc_report)\n",
    "print(len(report.children))"
   ]
  },
  {
   "cell_type": "code",
   "execution_count": 9,
   "metadata": {},
   "outputs": [
    {
     "name": "stdout",
     "output_type": "stream",
     "text": [
      "8\n"
     ]
    }
   ],
   "source": [
    "# Metals\n",
    "\n",
    "metals = Section(bookmark_name=\"Metals\", base_directory=\"./MT\")\n",
    "\n",
    "metals_sort_key = [\n",
    "    \"mt.form5b\",\n",
    "    \"mt.form0\",\n",
    "    \"mt.form1\",\n",
    "    \"mt.form1key\",\n",
    "    \"mt.form2a\",\n",
    "    \"mt.form2b\",\n",
    "    \"mt.form3\",\n",
    "    \"mt.form4b\",\n",
    "    \"mt.form5a\",\n",
    "    \"mt.form6\",\n",
    "    \"mt.form7\",\n",
    "    \"mt.form8\",\n",
    "    \"mt.form13\",\n",
    "    \"TUNE\",\n",
    "    \"mt.form15\",\n",
    "    \"FORMS_9_11\",\n",
    "    \"mt.rawdata\",\n",
    "    \"MTD-\",\n",
    "]\n",
    "\n",
    "metals_files = []\n",
    "for file in metals_sort_key:\n",
    "    metals_files.append(\n",
    "        FileType(\n",
    "            directory_source=r\"./\",\n",
    "            filename_text_to_match=file,\n",
    "        )\n",
    "    )\n",
    "\n",
    "metals.children = metals_files\n",
    "\n",
    "report.children.append(metals)\n",
    "print(len(report.children))"
   ]
  },
  {
   "cell_type": "code",
   "execution_count": 10,
   "metadata": {},
   "outputs": [
    {
     "name": "stdout",
     "output_type": "stream",
     "text": [
      "9\n"
     ]
    }
   ],
   "source": [
    "# Mercury\n",
    "\n",
    "mercury = Section(bookmark_name=\"Mercury\", base_directory=\"./HG\")\n",
    "\n",
    "mercury_sort_key = [\n",
    "    \"hg.form0\",\n",
    "    \"hg.form1\",\n",
    "    \"hg.form1key\",\n",
    "    \"hg.form2a\",\n",
    "    \"hg.form2b\",\n",
    "    \"hg.form3\",\n",
    "    \"hg.form4b\",\n",
    "    \"hg.form5a\",\n",
    "    \"hg.form5b\",\n",
    "    \"hg.form6\",\n",
    "    \"hg.form7\",\n",
    "    \"hg.form8\",\n",
    "    \"hg.form13\",\n",
    "    \"hg.form15\",\n",
    "    \"hg.raw_hg2\",\n",
    "    \"HGD-\",\n",
    "]\n",
    "\n",
    "mercury_files = []\n",
    "for file in mercury_sort_key:\n",
    "    mercury_files.append(\n",
    "        FileType(\n",
    "            directory_source=r\"./\",\n",
    "            filename_text_to_match=file,\n",
    "        )\n",
    "    )\n",
    "\n",
    "mercury.children = mercury_files\n",
    "\n",
    "report.children.append(mercury)\n",
    "print(len(report.children))"
   ]
  },
  {
   "cell_type": "code",
   "execution_count": 11,
   "metadata": {},
   "outputs": [],
   "source": [
    "with open(\"report.json\", \"w\") as f:\n",
    "    f.write(report.json())"
   ]
  }
 ],
 "metadata": {
  "kernelspec": {
   "display_name": "base",
   "language": "python",
   "name": "python3"
  },
  "language_info": {
   "codemirror_mode": {
    "name": "ipython",
    "version": 3
   },
   "file_extension": ".py",
   "mimetype": "text/x-python",
   "name": "python",
   "nbconvert_exporter": "python",
   "pygments_lexer": "ipython3",
   "version": "3.11.7"
  }
 },
 "nbformat": 4,
 "nbformat_minor": 2
}
